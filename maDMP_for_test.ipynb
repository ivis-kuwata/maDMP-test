{
 "cells": [
  {
   "cell_type": "markdown",
   "metadata": {},
   "source": [
    "# テスト用データ\n",
    "\n",
    "これはGOGSのinternal/route/repo/repo_gin_test.goが利用するデータです。許可なく編集しないでください。"
   ]
  },
  {
   "cell_type": "code",
   "execution_count": null,
   "metadata": {
    "scrolled": true
   },
   "outputs": [],
   "source": [
    "# DMP情報\n",
    "field = '%v'"
   ]
  },
  {
   "cell_type": "code",
   "execution_count": null,
   "metadata": {
    "scrolled": true
   },
   "outputs": [],
   "source": [
    "# ワークフローテンプレート取得\n",
    "%sh\n",
    "git clone https://github.com/ivis-kuwata/workflow-template.git /home/jovyan/WORKFLOW\n",
    "rm -r /home/jovyan/WORKFLOW/.git"
   ]
  },
  {
   "cell_type": "code",
   "execution_count": null,
   "metadata": {
    "scrolled": true
   },
   "outputs": [],
   "source": [
    "# dmp.jsonに\"fields\"プロパティがある想定\n",
    "import os\n",
    "import glob\n",
    "import shutil\n",
    "\n",
    "# path_flows = os.path.join('WORKFLOW', 'FLOW')\n",
    "tmp_path = 'FLOW' # maDMP検証用パス\n",
    "\n",
    "# 検証が終わったらtmp_pathをpath_flowsに修正のこと\n",
    "templates = glob.glob(os.path.join(tmp_path, '**'), recursive=True)\n",
    "\n",
    "# 選択外の分野のセクション群を削除\n",
    "for tmpl in templates:\n",
    "    file = os.path.basename(tmpl)\n",
    "    if not os.path.isdir(tmpl) and os.path.splitext(file)[1] == '.ipynb':\n",
    "        if 'base_' not in file and field not in file:\n",
    "            os.remove(tmpl)\n"
   ]
  },
 ],
 "metadata": {
  "kernelspec": {
   "display_name": "Python 3 (ipykernel)",
   "language": "python",
   "name": "python3"
  },
  "language_info": {
   "codemirror_mode": {
    "name": "ipython",
    "version": 3
   },
   "file_extension": ".py",
   "mimetype": "text/x-python",
   "name": "python",
   "nbconvert_exporter": "python",
   "pygments_lexer": "ipython3",
   "version": "3.7.10"
  }
 },
 "nbformat": 4,
 "nbformat_minor": 2
}
